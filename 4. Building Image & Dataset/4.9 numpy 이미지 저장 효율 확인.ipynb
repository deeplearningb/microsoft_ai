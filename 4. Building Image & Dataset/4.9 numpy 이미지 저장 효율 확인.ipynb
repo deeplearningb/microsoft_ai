{
 "cells": [
  {
   "cell_type": "markdown",
   "id": "5eb1b439",
   "metadata": {},
   "source": [
    "# numpy를 사용하여 이미지 저장 시 효율 비교"
   ]
  },
  {
   "cell_type": "code",
   "execution_count": 1,
   "id": "443b2642",
   "metadata": {},
   "outputs": [],
   "source": [
    "#!pip install Pillow\n",
    "import numpy as np\n",
    "from PIL import Image"
   ]
  },
  {
   "cell_type": "code",
   "execution_count": 7,
   "id": "0f89fc5a",
   "metadata": {},
   "outputs": [
    {
     "name": "stdout",
     "output_type": "stream",
     "text": [
      "<PIL.Image.Image image mode=L size=310x162 at 0x11F5E4550>\n"
     ]
    }
   ],
   "source": [
    "# 이미지 불러오기 \n",
    "img = Image.open(\"./data/cat.png\").convert('L') # 그레이 스케일 변환\n",
    "print(img)"
   ]
  },
  {
   "cell_type": "code",
   "execution_count": 8,
   "id": "91079b4a",
   "metadata": {},
   "outputs": [
    {
     "name": "stdout",
     "output_type": "stream",
     "text": [
      "[[222 222 222 ... 169 169 169]\n",
      " [223 223 223 ... 168 168 168]\n",
      " [223 223 223 ... 165 165 165]\n",
      " ...\n",
      " [219 219 222 ... 235 234 234]\n",
      " [221 222 224 ... 236 236 235]\n",
      " [221 222 224 ... 236 236 235]]\n"
     ]
    }
   ],
   "source": [
    "img_array = np.array(img)\n",
    "print(img_array)"
   ]
  },
  {
   "cell_type": "code",
   "execution_count": 9,
   "id": "ad2929e6",
   "metadata": {},
   "outputs": [],
   "source": [
    "np.save(\"./data/pil_image.npy\", img_array)"
   ]
  },
  {
   "cell_type": "code",
   "execution_count": 10,
   "id": "757526e4",
   "metadata": {},
   "outputs": [
    {
     "name": "stdout",
     "output_type": "stream",
     "text": [
      "[[222 222 222 ... 169 169 169]\n",
      " [223 223 223 ... 168 168 168]\n",
      " [223 223 223 ... 165 165 165]\n",
      " ...\n",
      " [219 219 222 ... 235 234 234]\n",
      " [221 222 224 ... 236 236 235]\n",
      " [221 222 224 ... 236 236 235]]\n"
     ]
    }
   ],
   "source": [
    "img_array1 = np.load(\"./data/pil_image.npy\")\n",
    "\n",
    "print(img_array1)"
   ]
  },
  {
   "cell_type": "code",
   "execution_count": 11,
   "id": "dcc61659",
   "metadata": {},
   "outputs": [],
   "source": [
    "# 다시 PIL 이미지로 변환 \n",
    "img = Image.fromarray(np.uint8(img_array1))\n",
    "img.save(\"./data/image_numpy.png\")"
   ]
  },
  {
   "cell_type": "code",
   "execution_count": 16,
   "id": "a5bbcc20",
   "metadata": {},
   "outputs": [
    {
     "name": "stdout",
     "output_type": "stream",
     "text": [
      "50348 bytes\n",
      "26808 bytes\n"
     ]
    }
   ],
   "source": [
    "import os \n",
    "np_save_size = os.path.getsize(\"./data/pil_image.npy\")\n",
    "\n",
    "pil_save_size = os.path.getsize(\"./data/image_numpy.png\")\n",
    "print(np_save_size, \"bytes\")\n",
    "print(pil_save_size, \"bytes\")"
   ]
  },
  {
   "cell_type": "code",
   "execution_count": null,
   "id": "f7de649c",
   "metadata": {},
   "outputs": [],
   "source": []
  }
 ],
 "metadata": {
  "kernelspec": {
   "display_name": "AI",
   "language": "python",
   "name": "ai"
  },
  "language_info": {
   "codemirror_mode": {
    "name": "ipython",
    "version": 3
   },
   "file_extension": ".py",
   "mimetype": "text/x-python",
   "name": "python",
   "nbconvert_exporter": "python",
   "pygments_lexer": "ipython3",
   "version": "3.8.12"
  }
 },
 "nbformat": 4,
 "nbformat_minor": 5
}
