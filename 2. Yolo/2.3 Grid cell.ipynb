{
 "cells": [
  {
   "cell_type": "code",
   "execution_count": 1,
   "metadata": {},
   "outputs": [
    {
     "name": "stdout",
     "output_type": "stream",
     "text": [
      "Image loaded successfully\n"
     ]
    }
   ],
   "source": [
    "import cv2\n",
    "import numpy as np\n",
    "\n",
    "image = cv2.imread('./puzzle.png')\n",
    "if image is None:\n",
    "    print(\"Could not open or find the image\")\n",
    "else:\n",
    "    print(\"Image loaded successfully\")\n",
    "\n",
    "grid_size = (30,30) \n",
    "\n",
    "def create_grid(image, grid_size=grid_size):\n",
    "    height, width = image.shape[:2] \n",
    "    # cv2 numpy array로 표현되며 해당 부분은 height, width, chennal에서 [:2]만큼 가져오게 됨\n",
    "    grid_width, grid_height = grid_size\n",
    "\n",
    "    grid_image = np.copy(image)\n",
    "    for x in range(0, width, grid_width):\n",
    "        cv2.line(grid_image, (x, 0), (x, height), (255, 255, 255), 1)\n",
    "    \n",
    "    for y in range(0, height, grid_height):\n",
    "        cv2.line(grid_image, (0, y), (width, y), (255, 255, 255), 1)\n",
    "\n",
    "    return grid_image\n",
    "\n",
    "grid_image = create_grid(image, grid_size)\n",
    "\n",
    "cv2.imshow(\"org\", image)\n",
    "cv2.imshow(\"grid\", grid_image)\n",
    "cv2.waitKey(0)\n",
    "cv2.destroyAllWindows()"
   ]
  },
  {
   "cell_type": "markdown",
   "metadata": {},
   "source": [
    "![image](puzzle.png)\n",
    "![image2](grid_puzzle.png)"
   ]
  },
  {
   "cell_type": "markdown",
   "metadata": {},
   "source": []
  },
  {
   "cell_type": "code",
   "execution_count": null,
   "metadata": {},
   "outputs": [],
   "source": []
  }
 ],
 "metadata": {
  "kernelspec": {
   "display_name": "env",
   "language": "python",
   "name": "python3"
  },
  "language_info": {
   "codemirror_mode": {
    "name": "ipython",
    "version": 3
   },
   "file_extension": ".py",
   "mimetype": "text/x-python",
   "name": "python",
   "nbconvert_exporter": "python",
   "pygments_lexer": "ipython3",
   "version": "3.10.12"
  },
  "orig_nbformat": 4
 },
 "nbformat": 4,
 "nbformat_minor": 2
}
