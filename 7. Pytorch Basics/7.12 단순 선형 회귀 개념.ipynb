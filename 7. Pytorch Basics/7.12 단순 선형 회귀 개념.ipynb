{
 "cells": [
  {
   "cell_type": "markdown",
   "id": "cfe713d9",
   "metadata": {},
   "source": [
    "# 단순 선형 회귀의 개념 간단 실습"
   ]
  },
  {
   "cell_type": "code",
   "execution_count": 1,
   "id": "242a17a9",
   "metadata": {},
   "outputs": [],
   "source": [
    "import numpy as np "
   ]
  },
  {
   "cell_type": "markdown",
   "id": "83df0958",
   "metadata": {},
   "source": [
    "#### 예시 데이터 생성"
   ]
  },
  {
   "cell_type": "code",
   "execution_count": 3,
   "id": "ca4e98a2",
   "metadata": {},
   "outputs": [
    {
     "name": "stdout",
     "output_type": "stream",
     "text": [
      "[1 2 3 4 5]\n",
      "[2 3 4 5 6]\n"
     ]
    }
   ],
   "source": [
    "x = np.array([1,2,3,4,5])\n",
    "y = np.array([2,3,4,5,6])\n",
    "print(x)\n",
    "print(y)"
   ]
  },
  {
   "cell_type": "markdown",
   "id": "addc4b16",
   "metadata": {},
   "source": [
    "#### 기울기와 절편 구하기 "
   ]
  },
  {
   "cell_type": "code",
   "execution_count": 4,
   "id": "e639ef36",
   "metadata": {},
   "outputs": [],
   "source": [
    "beta_1 = np.sum((x - np.mean(x)) * (y - np.mean(y))) / np.sum((x - np.mean(x))**2)\n",
    "beat_0 = np.mean(y) - beta_1 * np.mean(x)"
   ]
  },
  {
   "cell_type": "markdown",
   "id": "a71f45f4",
   "metadata": {},
   "source": [
    "#### 결과 출력 "
   ]
  },
  {
   "cell_type": "code",
   "execution_count": 5,
   "id": "73497b01",
   "metadata": {},
   "outputs": [
    {
     "name": "stdout",
     "output_type": "stream",
     "text": [
      "기울기 :  1.0\n",
      "절편 :  1.0\n"
     ]
    }
   ],
   "source": [
    "print(\"기울기 : \", beta_1)\n",
    "print(\"절편 : \" , beat_0)"
   ]
  },
  {
   "cell_type": "code",
   "execution_count": null,
   "id": "7ecc27ea",
   "metadata": {},
   "outputs": [],
   "source": [
    "\"\"\"\n",
    " y = 1.0x + 1.0 \n",
    "\"\"\""
   ]
  }
 ],
 "metadata": {
  "kernelspec": {
   "display_name": "AI",
   "language": "python",
   "name": "ai"
  },
  "language_info": {
   "codemirror_mode": {
    "name": "ipython",
    "version": 3
   },
   "file_extension": ".py",
   "mimetype": "text/x-python",
   "name": "python",
   "nbconvert_exporter": "python",
   "pygments_lexer": "ipython3",
   "version": "3.8.12"
  }
 },
 "nbformat": 4,
 "nbformat_minor": 5
}
