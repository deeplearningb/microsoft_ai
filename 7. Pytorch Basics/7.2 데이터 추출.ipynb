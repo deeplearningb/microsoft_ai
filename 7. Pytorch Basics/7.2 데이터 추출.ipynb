{
 "cells": [
  {
   "cell_type": "code",
   "execution_count": 1,
   "id": "0116ef9d",
   "metadata": {},
   "outputs": [],
   "source": []
  },
  {
   "cell_type": "markdown",
   "id": "9e5b347c",
   "metadata": {},
   "source": [
    "### 1. 리사이즈 함수 - padding 추가 "
   ]
  },
  {
   "cell_type": "code",
   "execution_count": 2,
   "id": "7e85a9f2",
   "metadata": {},
   "outputs": [],
   "source": [
    "import os \n",
    "import glob\n",
    "from tqdm import tqdm\n",
    "from PIL import Image\n",
    "\n",
    "# 이미지 크기 조절\n",
    "def process_img_resize(pil_img, background_color) : \n",
    "    # 입력 받은 이미지의 너비와 높이\n",
    "    witdh, height = pil_img.size\n",
    "    \n",
    "    # 이미지의 너비 = 높이, 그대로 반환\n",
    "    if witdh == height : \n",
    "        return pil_img\n",
    "    \n",
    "    # 이미지의 너비 > 높이, 새로운 이미지를 생성하여 높이와 너비를 같게한 뒤에 패딩 추가\n",
    "    elif witdh > height : \n",
    "        result = Image.new(pil_img.mode, (witdh, witdh), background_color)\n",
    "        result.paste(pil_img, (0, (witdh - height) // 2))\n",
    "        return result\n",
    "    \n",
    "    else :\n",
    "        # 그 외에 새로운 이미지를 생성하여 너비를 높이에 맞춘 뒤 패딩 추가\n",
    "        result = Image.new(pil_img.mode, (height, height), background_color)\n",
    "        result.paste(pil_img, ((height- witdh) // 2, 0))\n",
    "        return result\n",
    "    \n",
    "# 이미지 크기 조절, 패딩 추가 후 지정된 크기 리사이징\n",
    "def resize_with_padding(pil_img, new_size, background_color) : \n",
    "    # 이미지 크기 조정, 패딩 추가\n",
    "    img = process_img_resize(pil_img, background_color)\n",
    "    # 지정된 크기로 이미지 리사이징\n",
    "    img = img.resize((new_size[0], new_size[1]), Image.ANTIALIAS)\n",
    "    \n",
    "    return img"
   ]
  },
  {
   "cell_type": "markdown",
   "id": "a3f8d8ff",
   "metadata": {},
   "source": [
    "### 2. 메인함수"
   ]
  },
  {
   "cell_type": "code",
   "execution_count": 3,
   "id": "86ef9134",
   "metadata": {},
   "outputs": [
    {
     "name": "stderr",
     "output_type": "stream",
     "text": [
      "100%|█████████████████████████████████████████████████████████████████████████████████████| 8991/8991 [03:05<00:00, 48.48it/s]\n"
     ]
    }
   ],
   "source": [
    "if __name__ == '__main__' : # 메인 스크립트 파일 > 메인 프로그램으로 실행\n",
    "    \n",
    "    # 장르와 폴더 이름의 매핑을 딕셔너리로 정의\n",
    "    genre_foder_map = {\n",
    "    \n",
    "        'blues' : 'blues',\n",
    "        'classical' : 'classical', \n",
    "        'country' : 'country',\n",
    "        'disco' : 'disco',\n",
    "        'hiphop' : 'hiphop',\n",
    "        'jazz' : 'jazz',\n",
    "        'metal' : 'metal', \n",
    "        'pop' : 'pop', \n",
    "        'reggae' : 'reggae',\n",
    "        'rock' : 'rock'\n",
    "    }\n",
    "    \n",
    "    # 기본 경로 지정\n",
    "    file_path = \"./image_extraction_data/\"\n",
    "    # ./image_extraction_data/폴더/폴더/*png\n",
    "    \n",
    "    # 지정된 경래 아래의 모든 png 파일을 리스트로 가져옴\n",
    "    file_path_list = glob.glob(os.path.join(file_path, \"*\", \"*\", \"*.png\"))\n",
    "    \n",
    "    for path in tqdm(file_path_list):\n",
    "        \n",
    "        # /\n",
    "        # ./image_extraction_data/폴더/폴더/*png\n",
    "        # [. , image_extraction_data, 폴더, 폴더 , image01.png ]\n",
    "        mode, genre, file_name = path.split('/')[2:] # 모든 파일 경로를 '/'로 나누어 모드, 장르, 파일 이름을 추출\n",
    "        \n",
    "        if mode in ['waveshow', 'STFT', 'MelSepctorgram'] :\n",
    "            # 이미지 파일 열어서 img 객체 가져옴\n",
    "            img = Image.open(path)\n",
    "            # 리사이징하고 패딩 추가, 사이즈: 255,255, padding color: 검정\n",
    "            img_new = resize_with_padding(img, (255,255), (0,0,0))\n",
    "            \n",
    "            if genre in genre_foder_map : # genre_folder_map에 정의된 키 중 하나라면 새로운 경로에 리사이징 정보 추가\n",
    "                # ./final_data/mode('waveshow', 'STFT', 'MelSepctorgram')/ genre ('blues'...) / image\n",
    "                save_file_name = f\"./final_data/{mode}/{genre_foder_map[genre]}/{file_name}\"\n",
    "                img_new.save(save_file_name, 'png')\n",
    "    "
   ]
  },
  {
   "cell_type": "code",
   "execution_count": null,
   "id": "083e66cd",
   "metadata": {},
   "outputs": [],
   "source": []
  }
 ],
 "metadata": {
  "kernelspec": {
   "display_name": "AI",
   "language": "python",
   "name": "ai"
  },
  "language_info": {
   "codemirror_mode": {
    "name": "ipython",
    "version": 3
   },
   "file_extension": ".py",
   "mimetype": "text/x-python",
   "name": "python",
   "nbconvert_exporter": "python",
   "pygments_lexer": "ipython3",
   "version": "3.8.12"
  }
 },
 "nbformat": 4,
 "nbformat_minor": 5
}
