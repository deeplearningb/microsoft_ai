{
 "cells": [
  {
   "cell_type": "code",
   "execution_count": null,
   "metadata": {},
   "outputs": [],
   "source": [
    "import cv2\n",
    "import matplotlib.pyplot as plt\n",
    "import numpy as np\n",
    "\n",
    "image = cv2.imread(\"image02.jpeg\")\n",
    "image = cv2.cvtColor(image, cv2.COLOR_BGR2RGB)\n",
    "\n",
    "mean = 0\n",
    "var = 100\n",
    "sigma = var ** 0.5\n",
    "\n",
    "gauss = np.random.normal(mean, sigma, image.shape)\n",
    "gauss = gauss.astype('uint8')\n",
    "\n",
    "noisy_img = cv2.add(image, gauss)\n",
    "\n",
    "plt.imshow(noisy_img)\n",
    "plt.show()\n"
   ]
  }
 ],
 "metadata": {
  "language_info": {
   "name": "python"
  },
  "orig_nbformat": 4
 },
 "nbformat": 4,
 "nbformat_minor": 2
}
