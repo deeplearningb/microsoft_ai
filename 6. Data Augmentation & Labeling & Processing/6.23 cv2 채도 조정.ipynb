{
 "cells": [
  {
   "cell_type": "code",
   "execution_count": null,
   "metadata": {},
   "outputs": [],
   "source": [
    "\n",
    "import cv2\n",
    "import matplotlib.pyplot as plt\n",
    "import numpy as np\n",
    "\n",
    "img = cv2.imread('image02.jpeg')\n",
    "org_img = img.copy()\n",
    "\n",
    "img_hsv = cv2.cvtColor(img, cv2.COLOR_BGR2HSV)\n",
    "saturation_factor = 1.5\n",
    "img_hsv[:, :, 1] = img_hsv[:, :, 1] * saturation_factor\n",
    "\n",
    "saturated_img = cv2.cvtColor(img_hsv, cv2.COLOR_HSV2BGR)\n",
    "\n",
    "cv2.imshow(\"\", org_img)\n",
    "cv2.waitKey()\n",
    "cv2.imshow(\"\", saturated_img)\n",
    "cv2.waitKey()"
   ]
  }
 ],
 "metadata": {
  "language_info": {
   "name": "python"
  },
  "orig_nbformat": 4
 },
 "nbformat": 4,
 "nbformat_minor": 2
}
