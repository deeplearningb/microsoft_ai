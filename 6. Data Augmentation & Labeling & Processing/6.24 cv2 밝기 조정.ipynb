{
 "cells": [
  {
   "cell_type": "code",
   "execution_count": null,
   "metadata": {},
   "outputs": [],
   "source": [
    "\n",
    "import cv2\n",
    "import matplotlib.pyplot as plt\n",
    "import numpy as np\n",
    "\n",
    "img = cv2.imread('image02.jpeg')\n",
    "org_img = img.copy()\n",
    "\n",
    "bright_diff = 50\n",
    "img_brighten = cv2.convertScaleAbs(img, alpha=1, beta=bright_diff)\n",
    "\n",
    "cv2.imshow(\"org\", org_img)\n",
    "cv2.imshow(\"brighten\", img_brighten)\n",
    "cv2.waitKey()"
   ]
  }
 ],
 "metadata": {
  "language_info": {
   "name": "python"
  },
  "orig_nbformat": 4
 },
 "nbformat": 4,
 "nbformat_minor": 2
}
