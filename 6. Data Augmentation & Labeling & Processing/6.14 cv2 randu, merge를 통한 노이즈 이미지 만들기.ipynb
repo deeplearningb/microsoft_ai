{
 "cells": [
  {
   "cell_type": "code",
   "execution_count": null,
   "metadata": {},
   "outputs": [],
   "source": [
    "import cv2\n",
    "import matplotlib.pyplot as plt\n",
    "import numpy as np\n",
    "\n",
    "image = cv2.imread(\"image02.jpeg\")\n",
    "image = cv2.cvtColor(image, cv2.COLOR_BGR2RGB)\n",
    "\n",
    "noise = np.zeros(image.shape, np.uint8) \n",
    "# dst: 임의의 값으로 채워질 출력 배열입니다.\n",
    "# uint8 = unsigned int 8-bit (부호 없는 1바이트 정수)\n",
    "\n",
    "cv2.randu(noise, 0, 255)\n",
    "# low: 0, 임의 값 범위의 포괄적인 하한선입니다.\n",
    "# high: 255, 임의 값 범위의 배타적 상한선입니다.\n",
    "black = noise < 30 # [True, True, False, False, False, ...] 형태의 Mask 생성\n",
    "white = noise > 225\n",
    "\n",
    "noise[black] = 0\n",
    "noise[white] = 255\n",
    "\n",
    "noise_b = noise[:, :, 0] # image.shape (h, w, c) -> h*w*c -> color channel : B, G, R\n",
    "noise_g = noise[:, :, 1]\n",
    "noise_r = noise[:, :, 2]\n",
    "noisy_img = cv2.merge([\n",
    "    cv2.add(image[:, :, 0], noise_b),\n",
    "    cv2.add(image[:, :, 1], noise_g),\n",
    "    cv2.add(image[:, :, 2], noise_r)\n",
    "])\n",
    "# 여러 채널의 이미지를 각 채널로 할당\n",
    "\n",
    "plt.imshow(image)\n",
    "plt.show()\n",
    "plt.imshow(noisy_img)\n",
    "plt.show()\n"
   ]
  }
 ],
 "metadata": {
  "language_info": {
   "name": "python"
  },
  "orig_nbformat": 4
 },
 "nbformat": 4,
 "nbformat_minor": 2
}
