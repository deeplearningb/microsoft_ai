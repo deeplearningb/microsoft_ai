{
 "cells": [
  {
   "cell_type": "code",
   "execution_count": null,
   "metadata": {},
   "outputs": [],
   "source": [
    "import cv2\n",
    "import matplotlib.pyplot as plt\n",
    "import numpy as np\n",
    "\n",
    "image = cv2.imread(\"image02.jpeg\")\n",
    "image = cv2.cvtColor(image, cv2.COLOR_BGR2RGB)\n",
    "\n",
    "img_gray = cv2.imread(\"image02.jpeg\", cv2.IMREAD_GRAYSCALE)\n",
    "img_equalized = cv2.equalizeHist(img_gray)\n",
    "\n",
    "cv2.imshow(\"org\", img_gray)\n",
    "cv2.imshow(\"hist_equal\", img_equalized)\n",
    "cv2.waitKey()"
   ]
  }
 ],
 "metadata": {
  "language_info": {
   "name": "python"
  },
  "orig_nbformat": 4
 },
 "nbformat": 4,
 "nbformat_minor": 2
}
