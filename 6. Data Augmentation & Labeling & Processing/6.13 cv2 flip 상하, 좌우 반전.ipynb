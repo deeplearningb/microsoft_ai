{
 "cells": [
  {
   "cell_type": "code",
   "execution_count": null,
   "metadata": {},
   "outputs": [],
   "source": [
    "import cv2\n",
    "import matplotlib.pyplot as plt\n",
    "import numpy as np\n",
    "\n",
    "image = cv2.imread(\"image02.jpeg\")\n",
    "image = cv2.cvtColor(image, cv2.COLOR_BGR2RGB)\n",
    "\n",
    "flipped_img_updown = cv2.flip(image, 0) # 상하반전\n",
    "flipped_img_leftright = cv2.flip(image, 1) # 좌우반전\n",
    "flipped_img_lr_other = cv2.flip(image, -1) # 상하 & 좌우반전\n",
    "\n",
    "plt.imshow(image)\n",
    "plt.show()\n",
    "\n",
    "plt.imshow(flipped_img_updown)\n",
    "plt.show()\n",
    "\n",
    "plt.imshow(flipped_img_leftright)\n",
    "plt.show()\n",
    "\n",
    "plt.imshow(flipped_img_lr_other)\n",
    "plt.show()\n"
   ]
  }
 ],
 "metadata": {
  "language_info": {
   "name": "python"
  },
  "orig_nbformat": 4
 },
 "nbformat": 4,
 "nbformat_minor": 2
}
