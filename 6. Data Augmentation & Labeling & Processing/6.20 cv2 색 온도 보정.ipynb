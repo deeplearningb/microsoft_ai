{
 "cells": [
  {
   "cell_type": "code",
   "execution_count": null,
   "metadata": {},
   "outputs": [],
   "source": [
    "import cv2\n",
    "import matplotlib.pyplot as plt\n",
    "import numpy as np\n",
    "\n",
    "image = cv2.imread(\"image02.jpeg\")\n",
    "image = cv2.cvtColor(image, cv2.COLOR_BGR2RGB)\n",
    "\n",
    "org_img = image.copy()\n",
    "balance = [0.8, 0.7, 0.8]\n",
    "\n",
    "for i, value in enumerate(balance):\n",
    "    if value != 1.0:\n",
    "        org_img[:, :, i] = cv2.addWeighted(org_img[:,:,i], value, 0, 0, 0)\n",
    "                            # addWeighted: src에 대해 value만큼의 가중치로 색온도 조절\n",
    "\n",
    "plt.imshow(org_img)\n",
    "plt.show()\n"
   ]
  }
 ],
 "metadata": {
  "language_info": {
   "name": "python"
  },
  "orig_nbformat": 4
 },
 "nbformat": 4,
 "nbformat_minor": 2
}
