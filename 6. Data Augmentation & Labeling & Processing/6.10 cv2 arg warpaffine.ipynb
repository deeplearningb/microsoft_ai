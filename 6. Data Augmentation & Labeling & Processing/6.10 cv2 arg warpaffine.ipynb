{
 "cells": [
  {
   "cell_type": "code",
   "execution_count": null,
   "metadata": {},
   "outputs": [],
   "source": [
    "import cv2\n",
    "import matplotlib.pyplot as plt\n",
    "import numpy as np\n",
    "\n",
    "image = cv2.imread(\"image02.jpeg\")\n",
    "image = cv2.cvtColor(image, cv2.COLOR_BGR2RGB)\n",
    "\n",
    "angle = 30 # 30도로 회전\n",
    "\n",
    "h, w = image.shape[:2]\n",
    "center = (w//2, h//2)\n",
    "M = cv2.getRotationMatrix2D(center, angle, 1.0)\n",
    "    # getRotationMatrix2D(중심 좌표, 회전 각도, 크기 변환 비율)\n",
    "\n",
    "rotated_img = cv2.warpAffine(image, M, (w, h))\n",
    "                # warpAffine(원본 이미지, 회전 행렬, 이미지 크기)\n",
    "\n",
    "plt.imshow(image)\n",
    "plt.show()\n",
    "\n",
    "plt.imshow(rotated_img)\n",
    "plt.show()"
   ]
  }
 ],
 "metadata": {
  "language_info": {
   "name": "python"
  },
  "orig_nbformat": 4
 },
 "nbformat": 4,
 "nbformat_minor": 2
}
