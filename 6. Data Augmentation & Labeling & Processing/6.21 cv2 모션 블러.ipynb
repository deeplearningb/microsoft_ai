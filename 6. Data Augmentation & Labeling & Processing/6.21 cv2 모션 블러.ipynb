{
 "cells": [
  {
   "cell_type": "code",
   "execution_count": null,
   "metadata": {},
   "outputs": [],
   "source": [
    "import cv2\n",
    "import matplotlib.pyplot as plt\n",
    "import numpy as np\n",
    "\n",
    "image = cv2.imread(\"image02.jpeg\")\n",
    "image = cv2.cvtColor(image, cv2.COLOR_BGR2RGB)\n",
    "\n",
    "kernal_size = 15\n",
    "kernal_direction = np.zeros((kernal_size, kernal_size))\n",
    "kernal_direction[int((kernal_size)//2), :] = np.ones(kernal_size)\n",
    "kernal_direction /= kernal_size # 커널의 합이 1이 되도록\n",
    "kernal_matrix = cv2.getRotationMatrix2D((kernal_size/2, kernal_size/2), 45, 1)\n",
    "kernal = np.hstack((kernal_matrix[:, :2], [[0], [0]]))\n",
    "        # kernal_matrix[:, :2] <- 회전 행렬에서 병진이동 벡터를 제외하고 회전 행렬 값만 가져옴\n",
    "        # [[0],[0]] <- 병진이동 벡터 (이동 X)\n",
    "kernal = cv2.warpAffine(kernal_direction, kernal, (kernal_size, kernal_size))\n",
    "\n",
    "motion_blur_img = cv2.filter2D(image, -1, kernal)\n",
    "plt.imshow(motion_blur_img)\n",
    "plt.show()\n"
   ]
  }
 ],
 "metadata": {
  "language_info": {
   "name": "python"
  },
  "orig_nbformat": 4
 },
 "nbformat": 4,
 "nbformat_minor": 2
}
