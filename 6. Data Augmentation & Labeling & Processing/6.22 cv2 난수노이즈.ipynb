{
 "cells": [
  {
   "cell_type": "code",
   "execution_count": null,
   "metadata": {},
   "outputs": [],
   "source": [
    "\n",
    "import cv2\n",
    "import matplotlib.pyplot as plt\n",
    "import numpy as np\n",
    "\n",
    "image = cv2.imread(\"image02.jpeg\")\n",
    "image = cv2.cvtColor(image, cv2.COLOR_BGR2RGB)\n",
    "\n",
    "gray_img = cv2.imread('image02.jpeg', cv2.IMREAD_GRAYSCALE)\n",
    "h, w = gray_img.shape\n",
    "\n",
    "mean = 0\n",
    "var = 100\n",
    "sigma = var ** 0.5\n",
    "\n",
    "gaussian = np.random.normal(mean, sigma, (h, w))\n",
    "noisy_image = gray_img + gaussian.astype(np.uint8)\n",
    "# uint8 -> 0 ~ 255\n",
    "cv2.imshow(\"\", noisy_image)\n",
    "cv2.waitKey()"
   ]
  }
 ],
 "metadata": {
  "language_info": {
   "name": "python"
  },
  "orig_nbformat": 4
 },
 "nbformat": 4,
 "nbformat_minor": 2
}
