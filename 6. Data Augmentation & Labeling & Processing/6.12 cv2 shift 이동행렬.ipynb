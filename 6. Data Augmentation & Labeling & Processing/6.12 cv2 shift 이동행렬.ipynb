{
 "cells": [
  {
   "cell_type": "code",
   "execution_count": null,
   "metadata": {},
   "outputs": [],
   "source": [
    "import cv2\n",
    "import matplotlib.pyplot as plt\n",
    "import numpy as np\n",
    "\n",
    "image = cv2.imread(\"image02.jpeg\")\n",
    "image = cv2.cvtColor(image, cv2.COLOR_BGR2RGB)\n",
    "\n",
    "shift = (0, 50)\n",
    "M = np.float32([\n",
    "    [1, 0, shift[0]],\n",
    "    [0, 1, shift[1]]\n",
    "])\n",
    "# 이동 행렬: 좌측 2x2 -> 회전 행렬 (현재 단위행렬), 우측 1열: 이동 행렬 (x 변위, y 변위)\n",
    "\n",
    "shifted_img = cv2.warpAffine(image, M, (image.shape[1], image.shape[0]))\n",
    "plt.imshow(shifted_img)\n",
    "plt.show()\n"
   ]
  }
 ],
 "metadata": {
  "language_info": {
   "name": "python"
  },
  "orig_nbformat": 4
 },
 "nbformat": 4,
 "nbformat_minor": 2
}
