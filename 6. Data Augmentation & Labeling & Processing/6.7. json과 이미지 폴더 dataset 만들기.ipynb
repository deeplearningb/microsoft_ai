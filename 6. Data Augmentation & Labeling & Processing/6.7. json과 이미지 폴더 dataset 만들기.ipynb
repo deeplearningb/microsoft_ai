{
 "cells": [
  {
   "cell_type": "code",
   "execution_count": 1,
   "metadata": {},
   "outputs": [
    {
     "name": "stdout",
     "output_type": "stream",
     "text": [
      "Data of dataset : ('이미지 폴더\\\\image_001.jpg', {'boxes': [[10, 10, 50, 50], [100, 100, 200, 200]], 'labels': [0, 1]})\n",
      "Data of dataset : ('이미지 폴더\\\\image_002.jpg', {'boxes': [[20, 20, 60, 60], [300, 300, 400, 400]], 'labels': [1, 2]})\n",
      "Data of dataset : ('이미지 폴더\\\\image_003.jpg', {'boxes': [[30, 30, 60, 60], [300, 300, 400, 400]], 'labels': [1, 2]})\n",
      "Data of dataset : ('이미지 폴더\\\\image_004.jpg', {'boxes': [[10, 10, 60, 60], [300, 300, 400, 400]], 'labels': [1, 2]})\n"
     ]
    }
   ],
   "source": [
    "''' {\n",
    "        \"filename\": \"image_001.jpg\",\n",
    "        \"width\": 1280,\n",
    "        \"height\": 720,\n",
    "        \"ann\": {\n",
    "            \"bboxes\": [[10, 10, 50, 50], [100, 100, 200, 200]],\n",
    "            \"labels\": [0, 1]\n",
    "        }\n",
    "    } \n",
    "    (+) 이미지 폴더 없음'''\n",
    "\n",
    "\n",
    "import json\n",
    "from PIL import Image\n",
    "import torch\n",
    "from torch.utils.data import Dataset, DataLoader\n",
    "import os\n",
    "\n",
    "class JsonCustomDataset(Dataset):\n",
    "    def __init__(self, json_path, transform=None):\n",
    "        self.transform = transform\n",
    "        with open(json_path, 'r', encoding='utf-8') as f: # 'utf-8'에서 깨지는 경우 cp949(기본 디폴트 값)으로 설정\n",
    "            self.data = json.load(f)\n",
    "\n",
    "    def __getitem__(self, index):\n",
    "        # image path, 주석이 된 부분은 이미지 전처리 과정에서 필요, 이미지가 없으므로 주석 처리\n",
    "        img_path = self.data[index]['filename']\n",
    "        img_path = os.path.join(\"이미지 폴더\", img_path) # 이미지가 없으므로 이미지 폴더로 설정, 그냥 적어도 결과값 반환이 가능\n",
    "\n",
    "        # image = Image.open(img_path) # bbox, labels 정보가 담긴 이미지\n",
    "\n",
    "        bboxes = self.data[index]['ann']['bboxes']\n",
    "        labels = self.data[index]['ann']['labels']\n",
    "\n",
    "        # preprocessing\n",
    "        # if self.transform:\n",
    "            # image = self.transform(image)\n",
    "    \n",
    "        return img_path, {'boxes': bboxes, 'labels': labels}\n",
    "    \n",
    "    def __len__(self):\n",
    "        return len(self.data)\n",
    "    \n",
    "\n",
    "if __name__ == \"__main__\":\n",
    "    dataset = JsonCustomDataset(\"./test.json\", transform=None)\n",
    "\n",
    "    for item in dataset:\n",
    "        print(f\"Data of dataset : {item}\")"
   ]
  },
  {
   "cell_type": "code",
   "execution_count": null,
   "metadata": {},
   "outputs": [],
   "source": []
  }
 ],
 "metadata": {
  "kernelspec": {
   "display_name": "env",
   "language": "python",
   "name": "python3"
  },
  "language_info": {
   "codemirror_mode": {
    "name": "ipython",
    "version": 3
   },
   "file_extension": ".py",
   "mimetype": "text/x-python",
   "name": "python",
   "nbconvert_exporter": "python",
   "pygments_lexer": "ipython3",
   "version": "3.10.12"
  },
  "orig_nbformat": 4
 },
 "nbformat": 4,
 "nbformat_minor": 2
}
