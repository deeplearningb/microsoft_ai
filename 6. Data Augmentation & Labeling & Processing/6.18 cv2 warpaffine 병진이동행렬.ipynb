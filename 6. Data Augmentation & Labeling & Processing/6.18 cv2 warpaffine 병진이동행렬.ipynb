{
 "cells": [
  {
   "cell_type": "code",
   "execution_count": null,
   "metadata": {},
   "outputs": [],
   "source": [
    "import cv2\n",
    "import matplotlib.pyplot as plt\n",
    "import numpy as np\n",
    "\n",
    "image = cv2.imread(\"image02.jpeg\")\n",
    "image = cv2.cvtColor(image, cv2.COLOR_BGR2RGB)\n",
    "\n",
    "x_diff = 50\n",
    "y_diff = 100\n",
    "h, w, c = image.shape\n",
    "M = np.float32([\n",
    "    [1, 0, x_diff],\n",
    "    [0, 1, y_diff]\n",
    "]) # x축으로 50, y 축으로 100 이동하는 병진이동행렬\n",
    "shifted_img = cv2.warpAffine(image, M, (w, h))\n",
    "\n",
    "M = cv2.getRotationMatrix2D((w // 2, h // 2), 45, 1.0)\n",
    "rotated_img = cv2.warpAffine(image, M, (w, h))\n",
    "\n",
    "M = cv2.getRotationMatrix2D((w // 2, h // 2), 0, 0.5)\n",
    "halfed_img = cv2.warpAffine(image, M, (w, h), flags=cv2.INTER_AREA) # 가장자리를 검은색으로 칠한, 원본 이미지 크기와 같은 축소 이미지\n",
    "croped_img = halfed_img[h//2 - h//4 : h//2 + h//4, \n",
    "                        w//2 - w//4 : w//2 + w//4] # 가장자리를 잘라낸 이미지\n",
    "\n",
    "resized_img = cv2.resize(image, (w//2, h//2), interpolation=cv2.INTER_AREA)\n",
    "plt.imshow(image)\n",
    "plt.show()\n",
    "plt.imshow(shifted_img)\n",
    "plt.show()\n",
    "plt.imshow(rotated_img)\n",
    "plt.show()\n",
    "plt.imshow(resized_img)\n",
    "plt.show()\n",
    "plt.imshow(halfed_img)\n",
    "plt.show()\n",
    "plt.imshow(croped_img)\n",
    "plt.show()\n"
   ]
  }
 ],
 "metadata": {
  "language_info": {
   "name": "python"
  },
  "orig_nbformat": 4
 },
 "nbformat": 4,
 "nbformat_minor": 2
}
