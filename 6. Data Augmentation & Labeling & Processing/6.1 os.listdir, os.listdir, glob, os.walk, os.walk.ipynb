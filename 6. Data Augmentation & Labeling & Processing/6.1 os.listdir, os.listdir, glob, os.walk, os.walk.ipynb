{
 "cells": [
  {
   "cell_type": "markdown",
   "id": "b64ba0f2",
   "metadata": {},
   "source": [
    "# 이미지 폴더에 있는 파일 가져오기 (os.listdir) "
   ]
  },
  {
   "cell_type": "code",
   "execution_count": 1,
   "id": "73fa0f34",
   "metadata": {},
   "outputs": [
    {
     "name": "stdout",
     "output_type": "stream",
     "text": [
      "['apple_8.png', 'apple_9.png', 'apple_16.png', 'apple_17.png', 'apple_15.png', 'apple_14.png', 'apple_10.png', 'apple_11.png', 'apple_13.png', 'apple_12.png', 'apple_20.png', 'apple_19.png', 'apple_18.png', 'apple_7.png', 'apple_6.png', 'apple_4.png', 'apple_5.png', 'apple_1.png', 'apple_2.png', 'apple_3.png']\n"
     ]
    }
   ],
   "source": [
    "import os \n",
    "\n",
    "# 이미지가 저장되어 있는 폴더 경로 \n",
    "img_dir = \"./data/\"\n",
    "\n",
    "# 디렉토리 내 모든 파일 목록 가져오기\n",
    "file_list = os.listdir(img_dir)\n",
    "print(file_list)\n",
    "\n",
    "# 정렬되지 않습니다. !!"
   ]
  },
  {
   "cell_type": "markdown",
   "id": "5df14c72",
   "metadata": {},
   "source": [
    "### os.listdir -> 정렬 하기 "
   ]
  },
  {
   "cell_type": "code",
   "execution_count": 2,
   "id": "f3b21577",
   "metadata": {},
   "outputs": [
    {
     "name": "stdout",
     "output_type": "stream",
     "text": [
      "['apple_1.png', 'apple_10.png', 'apple_11.png', 'apple_12.png', 'apple_13.png', 'apple_14.png', 'apple_15.png', 'apple_16.png', 'apple_17.png', 'apple_18.png', 'apple_19.png', 'apple_2.png', 'apple_20.png', 'apple_3.png', 'apple_4.png', 'apple_5.png', 'apple_6.png', 'apple_7.png', 'apple_8.png', 'apple_9.png']\n"
     ]
    }
   ],
   "source": [
    "import os \n",
    "\n",
    "img_dir = \"./data/\"\n",
    "\n",
    "# 디렉토리 내 모든 파일 목록 가져오기\n",
    "file_list_temp = sorted(os.listdir(img_dir))\n",
    "print(file_list_temp)"
   ]
  },
  {
   "cell_type": "code",
   "execution_count": 3,
   "id": "2fff9cad",
   "metadata": {},
   "outputs": [
    {
     "name": "stdout",
     "output_type": "stream",
     "text": [
      "['apple_1.png', 'apple_2.png', 'apple_3.png', 'apple_4.png', 'apple_5.png', 'apple_6.png', 'apple_7.png', 'apple_8.png', 'apple_9.png', 'apple_10.png', 'apple_11.png', 'apple_12.png', 'apple_13.png', 'apple_14.png', 'apple_15.png', 'apple_16.png', 'apple_17.png', 'apple_18.png', 'apple_19.png', 'apple_20.png']\n"
     ]
    }
   ],
   "source": [
    "from natsort import natsort\n",
    "\n",
    "img_dir = \"./data/\"\n",
    "file_list_temp01 = natsort.natsorted(os.listdir(img_dir))\n",
    "print(file_list_temp01)"
   ]
  },
  {
   "cell_type": "markdown",
   "id": "5e7f1c7b",
   "metadata": {},
   "source": [
    "### glob.glob"
   ]
  },
  {
   "cell_type": "code",
   "execution_count": 4,
   "id": "7f6d5ac3",
   "metadata": {},
   "outputs": [
    {
     "name": "stdout",
     "output_type": "stream",
     "text": [
      "['./image01_data/apple_1.png', './image01_data/apple_2.png', './image01_data/apple_3.png', './image01_data/apple_4.png', './image01_data/apple_5.png', './image01_data/apple_6.png', './image01_data/apple_7.png', './image01_data/apple_8.png', './image01_data/apple_9.png', './image01_data/apple_10.png', './image01_data/apple_11.png', './image01_data/apple_12.png', './image01_data/apple_13.png', './image01_data/apple_14.png', './image01_data/apple_15.png', './image01_data/apple_16.png', './image01_data/apple_17.png', './image01_data/apple_18.png', './image01_data/apple_19.png', './image01_data/apple_20.png']\n"
     ]
    }
   ],
   "source": [
    "import glob\n",
    "import os \n",
    "\n",
    "\n",
    "\"\"\"\n",
    "폴더 구조 \n",
    "train \n",
    "  images \n",
    "     apple\n",
    "       - aaa.png\n",
    "     bon\n",
    "       - bbb.png \n",
    "\n",
    " \n",
    "\"./train/images/*/*\"\n",
    "\n",
    "file_list_tmep \n",
    "['./train/images/apple/aaa.png' , './train/images/bon/bbb.png']\n",
    "\n",
    "\"\"\"\n",
    "image_path = \"./data/*.png\"\n",
    "file_list_temp = glob.glob(image_path)\n",
    "\n",
    "file_list_temp = natsort.natsorted(glob.glob(os.path.join(\"./data/\", \"*.png\")))\n",
    "# The natsort.natsorted function is a part of the natsort library, \n",
    "# which is a Python library that is used to sort lists of strings and numbers naturally, \n",
    "# i.e., in the way that a human would expect, \n",
    "# rather than the way a computer would sort them by default.\n",
    "print(file_list_temp)"
   ]
  },
  {
   "cell_type": "markdown",
   "id": "f8bd298c",
   "metadata": {},
   "source": [
    "### os.walk"
   ]
  },
  {
   "cell_type": "code",
   "execution_count": 12,
   "id": "23fb1d61",
   "metadata": {},
   "outputs": [
    {
     "name": "stdout",
     "output_type": "stream",
     "text": [
      "path ./data/\n",
      "dir []\n",
      "files ['apple_8.png', 'apple_9.png', 'apple_16.png', 'apple_17.png', 'apple_15.png', 'apple_14.png', 'apple_10.png', 'apple_11.png', 'apple_13.png', 'apple_12.png', 'apple_20.png', 'apple_19.png', 'apple_18.png', 'apple_7.png', 'apple_6.png', 'apple_4.png', 'apple_5.png', 'apple_1.png', 'apple_2.png', 'apple_3.png']\n",
      "ext .png\n",
      "file_path >>  ./data/apple_8.png\n",
      "ext .png\n",
      "file_path >>  ./data/apple_9.png\n",
      "ext .png\n",
      "file_path >>  ./data/apple_16.png\n",
      "ext .png\n",
      "file_path >>  ./data/apple_17.png\n",
      "ext .png\n",
      "file_path >>  ./data/apple_15.png\n",
      "ext .png\n",
      "file_path >>  ./data/apple_14.png\n",
      "ext .png\n",
      "file_path >>  ./data/apple_10.png\n",
      "ext .png\n",
      "file_path >>  ./data/apple_11.png\n",
      "ext .png\n",
      "file_path >>  ./data/apple_13.png\n",
      "ext .png\n",
      "file_path >>  ./data/apple_12.png\n",
      "ext .png\n",
      "file_path >>  ./data/apple_20.png\n",
      "ext .png\n",
      "file_path >>  ./data/apple_19.png\n",
      "ext .png\n",
      "file_path >>  ./data/apple_18.png\n",
      "ext .png\n",
      "file_path >>  ./data/apple_7.png\n",
      "ext .png\n",
      "file_path >>  ./data/apple_6.png\n",
      "ext .png\n",
      "file_path >>  ./data/apple_4.png\n",
      "ext .png\n",
      "file_path >>  ./data/apple_5.png\n",
      "ext .png\n",
      "file_path >>  ./data/apple_1.png\n",
      "ext .png\n",
      "file_path >>  ./data/apple_2.png\n",
      "ext .png\n",
      "file_path >>  ./data/apple_3.png\n",
      "['./data/apple_8.png', './data/apple_9.png', './data/apple_16.png', './data/apple_17.png', './data/apple_15.png', './data/apple_14.png', './data/apple_10.png', './data/apple_11.png', './data/apple_13.png', './data/apple_12.png', './data/apple_20.png', './data/apple_19.png', './data/apple_18.png', './data/apple_7.png', './data/apple_6.png', './data/apple_4.png', './data/apple_5.png', './data/apple_1.png', './data/apple_2.png', './data/apple_3.png']\n",
      "./data/apple_8.png\n",
      "./data/apple_9.png\n",
      "./data/apple_16.png\n",
      "./data/apple_17.png\n",
      "./data/apple_15.png\n",
      "./data/apple_14.png\n",
      "./data/apple_10.png\n",
      "./data/apple_11.png\n",
      "./data/apple_13.png\n",
      "./data/apple_12.png\n",
      "./data/apple_20.png\n",
      "./data/apple_19.png\n",
      "./data/apple_18.png\n",
      "./data/apple_7.png\n",
      "./data/apple_6.png\n",
      "./data/apple_4.png\n",
      "./data/apple_5.png\n",
      "./data/apple_1.png\n",
      "./data/apple_2.png\n",
      "./data/apple_3.png\n"
     ]
    }
   ],
   "source": [
    "def get_img_path(root_path) : \n",
    "    file_paths = []\n",
    "    for (path, dir, files) in os.walk(root_path) :\n",
    "        print(\"path\" , path)\n",
    "        print(\"dir\", dir)\n",
    "        print(\"files\", files)\n",
    "        for file in files :\n",
    "            ext = os.path.splitext(file)[-1].lower()\n",
    "            print(\"ext\", ext)\n",
    "            formats_list = [\".bmp\", \".jpg\", 'jpeg' ,'.png', '.tif' , '.gif' , '.dng' , '.tiff']\n",
    "            if ext in formats_list :\n",
    "                \n",
    "                file_path = os.path.join(path, file)\n",
    "                print(\"file_path >> \" , file_path)\n",
    "                file_paths.append(file_path)\n",
    "                \n",
    "    return file_paths\n",
    "\n",
    "\n",
    "file_paths_temp = get_img_path(\"./data/\")\n",
    "print(file_paths_temp)\n",
    "\n",
    "for i in file_paths_temp :\n",
    "    print(i)"
   ]
  },
  {
   "cell_type": "code",
   "execution_count": null,
   "id": "5227d238",
   "metadata": {},
   "outputs": [],
   "source": []
  }
 ],
 "metadata": {
  "kernelspec": {
   "display_name": "AI",
   "language": "python",
   "name": "ai"
  },
  "language_info": {
   "codemirror_mode": {
    "name": "ipython",
    "version": 3
   },
   "file_extension": ".py",
   "mimetype": "text/x-python",
   "name": "python",
   "nbconvert_exporter": "python",
   "pygments_lexer": "ipython3",
   "version": "3.8.12"
  }
 },
 "nbformat": 4,
 "nbformat_minor": 5
}
