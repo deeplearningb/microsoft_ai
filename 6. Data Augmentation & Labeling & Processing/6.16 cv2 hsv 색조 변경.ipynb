{
 "cells": [
  {
   "cell_type": "code",
   "execution_count": null,
   "metadata": {},
   "outputs": [],
   "source": [
    "import cv2\n",
    "import matplotlib.pyplot as plt\n",
    "import numpy as np\n",
    "\n",
    "image = cv2.imread(\"image02.jpeg\")\n",
    "image = cv2.cvtColor(image, cv2.COLOR_BGR2RGB)\n",
    "\n",
    "hsv_img = cv2.cvtColor(image, cv2.COLOR_RGB2HSV)\n",
    "hue_shift = 30\n",
    "hsv_img[:, :, 0] = (hsv_img[:, :, 0] + hue_shift) % 180\n",
    "rgb_img = cv2.cvtColor(hsv_img, cv2.COLOR_HSV2RGB)\n",
    "\n",
    "plt.imshow(image)\n",
    "plt.show()\n",
    "plt.imshow(rgb_img)\n",
    "plt.show()"
   ]
  }
 ],
 "metadata": {
  "language_info": {
   "name": "python"
  },
  "orig_nbformat": 4
 },
 "nbformat": 4,
 "nbformat_minor": 2
}
