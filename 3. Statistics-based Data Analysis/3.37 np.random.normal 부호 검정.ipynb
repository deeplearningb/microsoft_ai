{
 "cells": [
  {
   "cell_type": "code",
   "execution_count": 1,
   "id": "c964ee2d",
   "metadata": {},
   "outputs": [],
   "source": [
    "import numpy as np\n",
    "from scipy.stats import binom_test\n"
   ]
  },
  {
   "cell_type": "code",
   "execution_count": 2,
   "id": "6689752c",
   "metadata": {},
   "outputs": [
    {
     "name": "stdout",
     "output_type": "stream",
     "text": [
      "[ 9.49671415  8.8617357   9.64768854 10.52302986  8.76584663  8.76586304\n",
      " 10.57921282  9.76743473  8.53052561  9.54256004  8.53658231  8.53427025\n",
      "  9.24196227  7.08671976  7.27508217  8.43771247  7.98716888  9.31424733\n",
      "  8.09197592  7.5876963 ]\n"
     ]
    }
   ],
   "source": [
    "# 가상의 데이터 생성 \n",
    "np.random.seed(42)\n",
    "n = 20\n",
    "nm = 9 \n",
    "data = np.random.normal(nm, size=n)\n",
    "\n",
    "print(data)"
   ]
  },
  {
   "cell_type": "code",
   "execution_count": 3,
   "id": "ff7f7cad",
   "metadata": {},
   "outputs": [
    {
     "name": "stdout",
     "output_type": "stream",
     "text": [
      "0.5034446716308594 8\n"
     ]
    }
   ],
   "source": [
    "# 검정할 값(mu0) 설정\n",
    "mu0 = 9\n",
    "\n",
    "n_above_mu0 = sum(data > mu0)\n",
    "\n",
    "# 부호 검정 \n",
    "p_val = binom_test(n_above_mu0, n=n)\n",
    "\n",
    "print(p_val, n_above_mu0)\n",
    "''' 부호 검정(sign test)은 두 표본이나 반복 측정 데이터에 대한 비모수 검정 방법 중 하나입니다. \n",
    "이 검정은 중앙값이 특정 값(예: 0)이나 두 그룹 간의 차이에 관심이 있는 경우에 사용됩니다.\n",
    "부호 검정을 수행하는 기본 단계는 다음과 같습니다:\n",
    "각 쌍에 대해 차이를 계산합니다.\n",
    "차이가 0인 경우를 제외하고, 양수와 음수 차이의 수를 세어 각각의 부호를 기록합니다.\n",
    "부호에 대한 이항 검정을 수행하여 양수 차이와 음수 차이의 수가 동일하다는 귀무 가설을 검정합니다. '''"
   ]
  },
  {
   "cell_type": "code",
   "execution_count": null,
   "id": "b2f5dcdb",
   "metadata": {},
   "outputs": [],
   "source": []
  }
 ],
 "metadata": {
  "kernelspec": {
   "display_name": "AI",
   "language": "python",
   "name": "ai"
  },
  "language_info": {
   "codemirror_mode": {
    "name": "ipython",
    "version": 3
   },
   "file_extension": ".py",
   "mimetype": "text/x-python",
   "name": "python",
   "nbconvert_exporter": "python",
   "pygments_lexer": "ipython3",
   "version": "3.8.12"
  }
 },
 "nbformat": 4,
 "nbformat_minor": 5
}
