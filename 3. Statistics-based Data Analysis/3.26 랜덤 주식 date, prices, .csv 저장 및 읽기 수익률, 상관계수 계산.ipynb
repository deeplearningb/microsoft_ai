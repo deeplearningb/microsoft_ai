{
 "cells": [
  {
   "cell_type": "code",
   "execution_count": 1,
   "id": "978b49c3",
   "metadata": {},
   "outputs": [],
   "source": [
    "import pandas as pd \n",
    "import random \n",
    "import os \n",
    "import numpy as np\n",
    "import matplotlib.pyplot as plt\n",
    "import seaborn as sns\n",
    "\n",
    "\n",
    "# 랜덤하게 각 주식의 가격 100개의 데이터 생성 \n",
    "# 삼성\n",
    "dates = pd.date_range(start='2021-01-04', periods=100, freq='D')\n",
    "samsung_prices = [random.randint(80000,90000) for _ in range(100)]\n",
    "samsung_data = {'Date' : dates, '005930.KS' : samsung_prices}\n",
    "samsung_df = pd.DataFrame(samsung_data)\n",
    "samsung_df.set_index('Date', inplace=True)\n",
    "\n",
    "# LG \n",
    "lg_prices = [random.randint(140000,160000) for _ in range(100)]\n",
    "lg_data = {'Date' : dates, '066570.KS' : lg_prices}\n",
    "lg_df = pd.DataFrame(lg_data)\n",
    "lg_df.set_index('Date', inplace=True)\n",
    "\n",
    "# 두개의 프레임 합치기 \n",
    "df = pd.concat([samsung_df, lg_df] , axis=1)\n",
    "df = df.loc[:, ['005930.KS', '066570.KS']]\n",
    "df.columns = ['Samsung', 'LG']\n",
    "\n",
    "# 폴더 생성 \n",
    "os.makedirs(\"./data\", exist_ok=True)\n",
    "\n",
    "# 저장\n",
    "df.to_csv(\"./data/stock_price.csv\")"
   ]
  },
  {
   "cell_type": "code",
   "execution_count": 7,
   "id": "c665d07b",
   "metadata": {},
   "outputs": [
    {
     "name": "stdout",
     "output_type": "stream",
     "text": [
      "            Samsung      LG\n",
      "Date                       \n",
      "2021-01-04    82750  149826\n",
      "2021-01-05    83753  141893\n",
      "2021-01-06    88596  148881\n",
      "2021-01-07    85580  151472\n",
      "2021-01-08    84079  149426\n",
      "...             ...     ...\n",
      "2021-04-09    82843  145961\n",
      "2021-04-10    88799  143330\n",
      "2021-04-11    84103  152603\n",
      "2021-04-12    83103  150927\n",
      "2021-04-13    81082  146403\n",
      "\n",
      "[100 rows x 2 columns]\n",
      "             Samsung        LG\n",
      "Date                          \n",
      "2021-01-04       NaN       NaN\n",
      "2021-01-05  0.012121 -0.052948\n",
      "2021-01-06  0.057825  0.049248\n",
      "2021-01-07 -0.034042  0.017403\n",
      "2021-01-08 -0.017539 -0.013507\n",
      "...              ...       ...\n",
      "2021-04-09  0.030770 -0.017845\n",
      "2021-04-10  0.071895 -0.018025\n",
      "2021-04-11 -0.052883  0.064697\n",
      "2021-04-12 -0.011890 -0.010983\n",
      "2021-04-13 -0.024319 -0.029975\n",
      "\n",
      "[100 rows x 2 columns]\n",
      "          Samsung        LG\n",
      "Samsung  1.000000 -0.034519\n",
      "LG      -0.034519  1.000000\n"
     ]
    }
   ],
   "source": [
    "# csv 읽기 \n",
    "df = pd.read_csv('./data/stock_price.csv')\n",
    "df['Date'] = pd.to_datetime(df['Date'])\n",
    "df.set_index('Date', inplace=True)\n",
    "print(df)\n",
    "\n",
    "# 두 종목의 수익률 계산 \n",
    "returns = df.pct_change()\n",
    "print(returns)\n",
    "\n",
    "# 수익률 간의 상관 계수 계산 \n",
    "corr_matrix = returns.corr()\n",
    "print(corr_matrix)"
   ]
  },
  {
   "cell_type": "code",
   "execution_count": 8,
   "id": "88eed13c",
   "metadata": {},
   "outputs": [
    {
     "data": {
      "image/png": "[encoded data removed]",
      "text/plain": [
       "<Figure size 640x480 with 2 Axes>"
      ]
     },
     "metadata": {},
     "output_type": "display_data"
    }
   ],
   "source": [
    "# 히트맵 그리기 \n",
    "sns.heatmap(corr_matrix, annot=True, cmap='coolwarm')\n",
    "plt.show()"
   ]
  },
  {
   "cell_type": "code",
   "execution_count": null,
   "id": "31fe4890",
   "metadata": {},
   "outputs": [],
   "source": []
  }
 ],
 "metadata": {
  "kernelspec": {
   "display_name": "AI",
   "language": "python",
   "name": "ai"
  },
  "language_info": {
   "codemirror_mode": {
    "name": "ipython",
    "version": 3
   },
   "file_extension": ".py",
   "mimetype": "text/x-python",
   "name": "python",
   "nbconvert_exporter": "python",
   "pygments_lexer": "ipython3",
   "version": "3.8.12"
  }
 },
 "nbformat": 4,
 "nbformat_minor": 5
}
